{
 "cells": [
  {
   "cell_type": "code",
   "execution_count": 12,
   "id": "69ce9945-802c-4f54-bb89-10a32a2d28d3",
   "metadata": {},
   "outputs": [
    {
     "name": "stdout",
     "output_type": "stream",
     "text": [
      "I'm happy to help! However, I need more information to provide an accurate answer. Could you please provide more context or clarify which course you are referring to? Additionally, are you referring to an online course, a university course, or something else? I'll do my best to help you determine if it's too late to join the course.\n"
     ]
    }
   ],
   "source": [
    "import os\n",
    "import requests\n",
    "from dotenv import load_dotenv\n",
    "\n",
    "# Load the .env file\n",
    "load_dotenv()\n",
    "\n",
    "# Get the key from the environment\n",
    "groq_api_key = os.getenv(\"GROQ_API_KEY\")\n",
    "\n",
    "# API request setup\n",
    "url = \"https://api.groq.com/openai/v1/chat/completions\"\n",
    "\n",
    "headers = {\n",
    "    \"Content-Type\": \"application/json\",\n",
    "    \"Authorization\": f\"Bearer {groq_api_key}\"\n",
    "}\n",
    "\n",
    "data = {\n",
    "    \"model\": \"meta-llama/llama-4-scout-17b-16e-instruct\",\n",
    "    \"messages\": [\n",
    "        {\"role\": \"user\", \"content\": \"is it too late to join the course?\"}\n",
    "    ]\n",
    "}\n",
    "\n",
    "# Send the request\n",
    "response = requests.post(url, headers=headers, json=data)\n",
    "\n",
    "# Print the result\n",
    "result = response.json()\n",
    "print(result[\"choices\"][0][\"message\"][\"content\"])"
   ]
  },
  {
   "cell_type": "code",
   "execution_count": null,
   "id": "458acbb1-3896-48ad-b630-b642bb5bb8ee",
   "metadata": {},
   "outputs": [],
   "source": []
  }
 ],
 "metadata": {
  "kernelspec": {
   "display_name": "Python 3 (ipykernel)",
   "language": "python",
   "name": "python3"
  },
  "language_info": {
   "codemirror_mode": {
    "name": "ipython",
    "version": 3
   },
   "file_extension": ".py",
   "mimetype": "text/x-python",
   "name": "python",
   "nbconvert_exporter": "python",
   "pygments_lexer": "ipython3",
   "version": "3.12.1"
  }
 },
 "nbformat": 4,
 "nbformat_minor": 5
}
